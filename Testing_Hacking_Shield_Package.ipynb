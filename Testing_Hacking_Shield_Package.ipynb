{
  "nbformat": 4,
  "nbformat_minor": 0,
  "metadata": {
    "colab": {
      "provenance": []
    },
    "kernelspec": {
      "name": "python3",
      "display_name": "Python 3"
    },
    "language_info": {
      "name": "python"
    }
  },
  "cells": [
    {
      "cell_type": "code",
      "execution_count": 1,
      "metadata": {
        "colab": {
          "base_uri": "https://localhost:8080/"
        },
        "id": "NnEuVL7VrjyL",
        "outputId": "a82fe106-3f9e-4feb-dde2-1d5db6df020e"
      },
      "outputs": [
        {
          "output_type": "stream",
          "name": "stdout",
          "text": [
            "Collecting hacking-shield==0.2.3\n",
            "  Downloading hacking_shield-0.2.3-py3-none-any.whl.metadata (3.4 kB)\n",
            "Requirement already satisfied: requests>=2.0.0 in /usr/local/lib/python3.10/dist-packages (from hacking-shield==0.2.3) (2.32.3)\n",
            "Requirement already satisfied: charset-normalizer<4,>=2 in /usr/local/lib/python3.10/dist-packages (from requests>=2.0.0->hacking-shield==0.2.3) (3.3.2)\n",
            "Requirement already satisfied: idna<4,>=2.5 in /usr/local/lib/python3.10/dist-packages (from requests>=2.0.0->hacking-shield==0.2.3) (3.10)\n",
            "Requirement already satisfied: urllib3<3,>=1.21.1 in /usr/local/lib/python3.10/dist-packages (from requests>=2.0.0->hacking-shield==0.2.3) (2.2.3)\n",
            "Requirement already satisfied: certifi>=2017.4.17 in /usr/local/lib/python3.10/dist-packages (from requests>=2.0.0->hacking-shield==0.2.3) (2024.8.30)\n",
            "Downloading hacking_shield-0.2.3-py3-none-any.whl (4.6 kB)\n",
            "Installing collected packages: hacking-shield\n",
            "Successfully installed hacking-shield-0.2.3\n"
          ]
        }
      ],
      "source": [
        "!pip install hacking-shield==0.2.3"
      ]
    },
    {
      "cell_type": "code",
      "source": [
        "from hacking_shield import SQLDetectionClient\n",
        "\n",
        "# Replace with a valid API key from your MongoDB collection\n",
        "api_key = \"f706ab84cbbe5c8ca95d086276d81ec795773c2563264c69\"\n",
        "client = SQLDetectionClient(api_key)\n",
        "\n",
        "# Test with a safe SQL query\n",
        "safe_query = \"SELECT * FROM users WHERE id = 1;\"\n",
        "print(\"Testing safe query...\")\n",
        "safe_result = client.detect_harmful_sql(safe_query)\n",
        "print(\"Response:\", safe_result)\n",
        "\n",
        "# Test with a harmful SQL query\n",
        "harmful_query = \"SELECT * FROM users WHERE id = 1 OR 1=1; DROP TABLE users;\"\n",
        "print(\"\\nTesting harmful query...\")\n",
        "harmful_result = client.detect_harmful_sql(harmful_query)\n",
        "print(\"Response:\", harmful_result)\n",
        "\n"
      ],
      "metadata": {
        "colab": {
          "base_uri": "https://localhost:8080/"
        },
        "id": "j2IMQg9_r1Pe",
        "outputId": "7920f1aa-2143-41de-921a-8cc55cfef4c6"
      },
      "execution_count": 5,
      "outputs": [
        {
          "output_type": "stream",
          "name": "stdout",
          "text": [
            "Testing safe query...\n",
            "Request URL: https://hacking-shield-api.onrender.com/detect_sql\n",
            "Request Data: {'query': 'SELECT * FROM users WHERE id = 1;', 'api_key': 'f706ab84cbbe5c8ca95d086276d81ec795773c2563264c69'}\n",
            "Response Status Code: 200\n",
            "Response: {'status': 'Safe SQL query.'}\n",
            "\n",
            "Testing harmful query...\n",
            "Request URL: https://hacking-shield-api.onrender.com/detect_sql\n",
            "Request Data: {'query': 'SELECT * FROM users WHERE id = 1 OR 1=1; DROP TABLE users;', 'api_key': 'f706ab84cbbe5c8ca95d086276d81ec795773c2563264c69'}\n",
            "Response Status Code: 200\n",
            "Response: {'status': 'Harmful SQL detected.'}\n"
          ]
        }
      ]
    }
  ]
}